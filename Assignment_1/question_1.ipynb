{
 "cells": [
  {
   "cell_type": "code",
   "execution_count": 68,
   "metadata": {},
   "outputs": [
    {
     "name": "stdout",
     "output_type": "stream",
     "text": [
      "(398, 8)\n"
     ]
    }
   ],
   "source": [
    "import pandas as pd\n",
    "\n",
    "auto_mpg_data = pd.read_csv('AutoMPG.csv')\n",
    "print(auto_mpg_data.shape)"
   ]
  },
  {
   "cell_type": "markdown",
   "metadata": {},
   "source": [
    "Functions:"
   ]
  },
  {
   "cell_type": "code",
   "execution_count": 69,
   "metadata": {},
   "outputs": [],
   "source": [
    "def calculate_median(dataset):\n",
    "    sorted_data = sorted(dataset)\n",
    "    return sorted_data[len(sorted_data)//2]\n",
    "\n",
    "def quantile_(column, quantile_value):\n",
    "    sorted_column = sorted(column)\n",
    "    \n",
    "    n = len(sorted_column)\n",
    "    index = (n - 1) * quantile_value\n",
    "    \n",
    "    lower_index = int(index)\n",
    "    upper_index = lower_index + 1 if lower_index + 1 < n else lower_index\n",
    "    frac_part = index - lower_index\n",
    "    \n",
    "    if frac_part == 0:\n",
    "        return sorted_column[lower_index]\n",
    "    else:\n",
    "        lower_value = sorted_column[lower_index]\n",
    "        upper_value = sorted_column[upper_index]\n",
    "        return lower_value + (upper_value - lower_value) * frac_part\n"
   ]
  },
  {
   "cell_type": "markdown",
   "metadata": {},
   "source": [
    "A Part:"
   ]
  },
  {
   "cell_type": "code",
   "execution_count": 70,
   "metadata": {},
   "outputs": [],
   "source": [
    "# changed ? to median horsepower value\n",
    "auto_mpg_data['horsepower'] = pd.to_numeric(auto_mpg_data['horsepower'].replace('?', None))\n",
    "mean_horsepower = calculate_median(auto_mpg_data['horsepower'])\n",
    "auto_mpg_data['horsepower'].fillna(mean_horsepower, inplace=True)\n",
    "\n",
    "# there are no non numeric ordinal attributes in the dataset\n",
    "\n",
    "# doing one hot encoding for discrete attributes like origin and cylinders\n",
    "df_encoded = pd.get_dummies(auto_mpg_data, columns=['cylinders', 'origin'], prefix=['cyl', 'origin'])\n",
    "df = df_encoded.replace({True: 1, False: 0})\n",
    "\n",
    "#removing outliers and imputing median in place of them\n",
    "for column in ['mpg', 'displacement', 'horsepower', 'weight', 'acceleration', 'model year']:\n",
    "    Q1 = quantile_(df[column],0.25)\n",
    "    Q3 = quantile_(df[column],0.75)\n",
    "    IQR = Q3 - Q1\n",
    "    lower_bound = Q1 - 1.5 * IQR\n",
    "    upper_bound = Q3 + 1.5 * IQR\n",
    "    mediann=calculate_median(df[column])\n",
    "    df.loc[df[column] > upper_bound, column] = mediann\n",
    "    df.loc[df[column] < lower_bound, column] = mediann\n",
    "\n",
    "#saving this into a file\n",
    "df.to_csv('AutoMPG_cleaned.csv', index=False)"
   ]
  },
  {
   "cell_type": "markdown",
   "metadata": {},
   "source": [
    "B Part:"
   ]
  },
  {
   "cell_type": "code",
   "execution_count": 71,
   "metadata": {},
   "outputs": [
    {
     "name": "stdout",
     "output_type": "stream",
     "text": [
      "(398, 14)\n",
      "{'mpg': 23.455276381909552, 'displacement': 193.42587939698493, 'horsepower': 101.2537688442211, 'weight': 2972.288944723618, 'acceleration': 15.535175879396968, 'model year': 76.0, 'cyl_3': 0.010050251256281407, 'cyl_4': 0.5125628140703518, 'cyl_5': 0.007537688442211055, 'cyl_6': 0.21105527638190955, 'cyl_8': 0.25879396984924624, 'origin_1': 0.6256281407035176, 'origin_2': 0.17587939698492464, 'origin_3': 0.1984924623115578}\n",
      "{'mpg': 59.59423095376376, 'displacement': 10844.882068950259, 'horsepower': 1096.7572094139036, 'weight': 713342.9742998912, 'acceleration': 6.446451099719708, 'model year': 13.597989949748744, 'cyl_3': 0.009949243705967031, 'cyl_4': 0.2498421757026331, 'cyl_5': 0.007480871695159248, 'cyl_6': 0.16651094669326397, 'cyl_8': 0.19181965101891388, 'origin_1': 0.23421757026337828, 'origin_2': 0.14494583470114322, 'origin_3': 0.15909320471705204}\n"
     ]
    }
   ],
   "source": [
    "df = pd.read_csv('AutoMPG_cleaned.csv')\n",
    "print(df.shape)\n",
    "\n",
    "mean_x ={}\n",
    "variance = {}\n",
    "for col in df.columns:\n",
    "    mean_val=sum(df[col])/len(df[col])\n",
    "    mean_x[col]=mean_val\n",
    "    var=0\n",
    "    for i in df[col]:\n",
    "        var+=(i-mean_val)**2\n",
    "    variance[col]=var/len(df[col])\n",
    "    \n",
    "print(mean_x)\n",
    "print(variance)"
   ]
  },
  {
   "cell_type": "markdown",
   "metadata": {},
   "source": [
    "C Part:"
   ]
  },
  {
   "cell_type": "code",
   "execution_count": 72,
   "metadata": {},
   "outputs": [],
   "source": [
    "# variance is highly dominated by mpg, displacement, horsepower and weight\n",
    "\n",
    "for col in ['mpg','displacement', 'horsepower', 'weight']:\n",
    "    df[col]=(df[col]-mean_x[col])/variance[col]\n",
    "\n",
    "df_normalized = df\n",
    "mean_x_nomalised={}\n",
    "variance_nomalised = {}\n",
    "for col in df.columns:\n",
    "    mean_val=sum(df[col])/len(df[col])\n",
    "    mean_x_nomalised[col]=mean_val\n",
    "    var=0\n",
    "    for i in df[col]:\n",
    "        var+=(i-mean_val)**2\n",
    "    variance_nomalised[col]=var/len(df[col])\n",
    "\n",
    "# print(df_normalized.head(10))\n",
    "# print(mean_x_nomalised)\n",
    "# print(variance_nomalised)"
   ]
  },
  {
   "cell_type": "markdown",
   "metadata": {},
   "source": [
    "D Part:"
   ]
  },
  {
   "cell_type": "code",
   "execution_count": 73,
   "metadata": {},
   "outputs": [
    {
     "name": "stdout",
     "output_type": "stream",
     "text": [
      "Chi-squared Statistic: 121.05451233218376\n",
      "Degrees of Freedom: 48\n",
      "Model year affects the number of cylinders.\n"
     ]
    }
   ],
   "source": [
    "#preprocessing: label encoding for cylinders using sklearn\n",
    "from sklearn.preprocessing import LabelEncoder\n",
    "label_encoder = LabelEncoder()\n",
    "auto_mpg_data['num_cylinders'] = label_encoder.fit_transform(auto_mpg_data['cylinders'])\n",
    "\n",
    "contingency_table = pd.crosstab(df['model year'], auto_mpg_data['cylinders'])\n",
    "observed = contingency_table.values\n",
    "\n",
    "row_totals = observed.sum(axis=1)\n",
    "col_totals = observed.sum(axis=0)\n",
    "total = observed.sum()\n",
    "\n",
    "expected = [[0 for _ in range(len(col_totals))] for _ in range(len(row_totals))]\n",
    "for i in range(len(row_totals)):\n",
    "    for j in range(len(col_totals)):\n",
    "        expected[i][j] = (row_totals[i] * col_totals[j]) / total\n",
    "\n",
    "chi_squared_stat = 0\n",
    "for i in range(len(observed)):\n",
    "    for j in range(len(observed[i])):\n",
    "        if expected[i][j] != 0:\n",
    "            chi_squared_stat += ((observed[i][j] - expected[i][j]) ** 2) / expected[i][j]\n",
    "\n",
    "\n",
    "rows, cols = observed.shape\n",
    "dof = (rows - 1) * (cols - 1)\n",
    "\n",
    "print(\"Chi-squared Statistic:\", chi_squared_stat)\n",
    "print(\"Degrees of Freedom:\", dof)\n",
    "\n",
    "if chi_squared_stat > 65.171:  # critical value for dof=48 and alpha=0.05 seen from the table attached\n",
    "    print(\"Model year affects the number of cylinders.\")\n",
    "else:\n",
    "    print(\"Model year does not affect the number of cylinders.\")"
   ]
  }
 ],
 "metadata": {
  "kernelspec": {
   "display_name": "Python 3",
   "language": "python",
   "name": "python3"
  },
  "language_info": {
   "codemirror_mode": {
    "name": "ipython",
    "version": 3
   },
   "file_extension": ".py",
   "mimetype": "text/x-python",
   "name": "python",
   "nbconvert_exporter": "python",
   "pygments_lexer": "ipython3",
   "version": "3.11.9"
  }
 },
 "nbformat": 4,
 "nbformat_minor": 2
}
