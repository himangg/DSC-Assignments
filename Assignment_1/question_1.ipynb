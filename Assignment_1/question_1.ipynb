{
 "cells": [
  {
   "cell_type": "code",
   "execution_count": 49,
   "metadata": {},
   "outputs": [
    {
     "name": "stdout",
     "output_type": "stream",
     "text": [
      "(398, 8)\n"
     ]
    }
   ],
   "source": [
    "import pandas as pd\n",
    "\n",
    "auto_mpg_data = pd.read_csv('AutoMPG.csv')\n",
    "print(auto_mpg_data.shape)"
   ]
  },
  {
   "cell_type": "markdown",
   "metadata": {},
   "source": [
    "A Part:"
   ]
  },
  {
   "cell_type": "code",
   "execution_count": 50,
   "metadata": {},
   "outputs": [],
   "source": [
    "# changed ? to median horsepower value\n",
    "auto_mpg_data['horsepower'] = pd.to_numeric(auto_mpg_data['horsepower'].replace('?', None))\n",
    "mean_horsepower = auto_mpg_data['horsepower'].median()\n",
    "auto_mpg_data['horsepower'].fillna(mean_horsepower, inplace=True)\n",
    "\n",
    "# there are no non numeric ordinal attributes in the dataset\n",
    "\n",
    "# doing one hot encoding for discrete attributes like origin and cylinders\n",
    "df_encoded = pd.get_dummies(auto_mpg_data, columns=['cylinders', 'origin'], prefix=['cyl', 'origin'])\n",
    "df = df_encoded.replace({True: 1, False: 0})\n",
    "\n",
    "#removing outliers and imputing median in place of them\n",
    "for column in ['mpg', 'displacement', 'horsepower', 'weight', 'acceleration', 'model year']:\n",
    "    Q1 = df[column].quantile(0.25)\n",
    "    Q3 = df[column].quantile(0.75)\n",
    "    IQR = Q3 - Q1\n",
    "    lower_bound = Q1 - 1.5 * IQR\n",
    "    upper_bound = Q3 + 1.5 * IQR\n",
    "    mediann=int(df[column].median())\n",
    "    df.loc[df[column] > upper_bound, column] = mediann\n",
    "    df.loc[df[column] < lower_bound, column] = mediann\n",
    "\n",
    "#saving this into a file\n",
    "df.to_csv('AutoMPG_cleaned.csv', index=False)"
   ]
  },
  {
   "cell_type": "markdown",
   "metadata": {},
   "source": [
    "B Part:"
   ]
  },
  {
   "cell_type": "code",
   "execution_count": 51,
   "metadata": {},
   "outputs": [
    {
     "name": "stdout",
     "output_type": "stream",
     "text": [
      "(398, 14)\n",
      "{'mpg': 23.455276381909552, 'displacement': 193.42587939698493, 'horsepower': 100.87437185929649, 'weight': 2972.278894472362, 'acceleration': 15.526381909547723, 'model year': 76.0, 'cyl_3': 0.010050251256281407, 'cyl_4': 0.5125628140703518, 'cyl_5': 0.007537688442211055, 'cyl_6': 0.21105527638190955, 'cyl_8': 0.25879396984924624, 'origin_1': 0.6256281407035176, 'origin_2': 0.17587939698492464, 'origin_3': 0.1984924623115578}\n",
      "{'mpg': 59.59423095376376, 'displacement': 10844.882068950259, 'horsepower': 1095.4729110375995, 'weight': 713346.3367907378, 'acceleration': 6.451389421984299, 'model year': 13.597989949748744, 'cyl_3': 0.009949243705967031, 'cyl_4': 0.2498421757026331, 'cyl_5': 0.007480871695159248, 'cyl_6': 0.16651094669326397, 'cyl_8': 0.19181965101891388, 'origin_1': 0.23421757026337828, 'origin_2': 0.14494583470114322, 'origin_3': 0.15909320471705204}\n"
     ]
    }
   ],
   "source": [
    "df = pd.read_csv('AutoMPG_cleaned.csv')\n",
    "print(df.shape)\n",
    "\n",
    "mean_x ={}\n",
    "variance = {}\n",
    "for col in df.columns:\n",
    "    mean_val=sum(df[col])/len(df[col])\n",
    "    mean_x[col]=mean_val\n",
    "    var=0\n",
    "    for i in df[col]:\n",
    "        var+=(i-mean_val)**2\n",
    "    variance[col]=var/len(df[col])\n",
    "    \n",
    "print(mean_x)\n",
    "print(variance)"
   ]
  },
  {
   "cell_type": "markdown",
   "metadata": {},
   "source": [
    "C Part:"
   ]
  },
  {
   "cell_type": "code",
   "execution_count": 52,
   "metadata": {},
   "outputs": [],
   "source": [
    "# variance is highly dominated by mpg, displacement, horsepower and weight\n",
    "\n",
    "for col in ['mpg','displacement', 'horsepower', 'weight']:\n",
    "    df[col]=(df[col]-mean_x[col])/variance[col]\n",
    "\n",
    "df_normalized = df\n",
    "mean_x_nomalised={}\n",
    "variance_nomalised = {}\n",
    "for col in df.columns:\n",
    "    mean_val=sum(df[col])/len(df[col])\n",
    "    mean_x_nomalised[col]=mean_val\n",
    "    var=0\n",
    "    for i in df[col]:\n",
    "        var+=(i-mean_val)**2\n",
    "    variance_nomalised[col]=var/len(df[col])\n",
    "\n",
    "# print(df_normalized.head(10))\n",
    "# print(mean_x_nomalised)\n",
    "# print(variance_nomalised)"
   ]
  },
  {
   "cell_type": "markdown",
   "metadata": {},
   "source": [
    "D Part:"
   ]
  },
  {
   "cell_type": "code",
   "execution_count": 53,
   "metadata": {},
   "outputs": [
    {
     "name": "stdout",
     "output_type": "stream",
     "text": [
      "Chi-squared Statistic: 121.05451233218379\n",
      "Degrees of Freedom: 48\n",
      "P-value: 3.0677113413769835e-08\n",
      "Expected Frequencies:\n",
      " [[ 0.29145729 14.86432161  0.21859296  6.12060302  7.50502513]\n",
      " [ 0.28140704 14.35175879  0.21105528  5.90954774  7.24623116]\n",
      " [ 0.28140704 14.35175879  0.21105528  5.90954774  7.24623116]\n",
      " [ 0.40201005 20.50251256  0.30150754  8.44221106 10.35175879]\n",
      " [ 0.27135678 13.83919598  0.20351759  5.69849246  6.98743719]\n",
      " [ 0.30150754 15.37688442  0.22613065  6.33165829  7.7638191 ]\n",
      " [ 0.35175879 17.93969849  0.2638191   7.38693467  9.05778894]\n",
      " [ 0.28140704 14.35175879  0.21105528  5.90954774  7.24623116]\n",
      " [ 0.36180905 18.45226131  0.27135678  7.59798995  9.31658291]\n",
      " [ 0.29145729 14.86432161  0.21859296  6.12060302  7.50502513]\n",
      " [ 0.28140704 14.35175879  0.21105528  5.90954774  7.24623116]\n",
      " [ 0.29145729 14.86432161  0.21859296  6.12060302  7.50502513]\n",
      " [ 0.31155779 15.88944724  0.23366834  6.54271357  8.02261307]]\n",
      "Reject the null hypothesis: There is a significant effect of model year on the number of cylinders.\n"
     ]
    }
   ],
   "source": [
    "#preprocessing: label encoding for cylinders using sklearn\n",
    "from sklearn.preprocessing import LabelEncoder\n",
    "label_encoder = LabelEncoder()\n",
    "auto_mpg_data['num_cylinders'] = label_encoder.fit_transform(auto_mpg_data['cylinders'])\n",
    "\n",
    "from scipy.stats import chi2_contingency\n",
    "\n",
    "contingency_table = pd.crosstab(df['model year'], auto_mpg_data['cylinders'])\n",
    "chi2_stat, p_value, dof, expected = chi2_contingency(contingency_table)\n",
    "\n",
    "alpha = 0.05\n",
    "\n",
    "print(\"Chi-squared Statistic:\", chi2_stat)\n",
    "print(\"Degrees of Freedom:\", dof)\n",
    "print(\"P-value:\", p_value)\n",
    "print(\"Expected Frequencies:\\n\", expected)\n",
    "\n",
    "# Conclusion\n",
    "if p_value < alpha:\n",
    "    print(\"Reject the null hypothesis: There is a significant effect of model year on the number of cylinders.\")\n",
    "else:\n",
    "    print(\"Fail to reject the null hypothesis: There is no significant effect of model year on the number of cylinders.\")"
   ]
  }
 ],
 "metadata": {
  "kernelspec": {
   "display_name": "Python 3",
   "language": "python",
   "name": "python3"
  },
  "language_info": {
   "codemirror_mode": {
    "name": "ipython",
    "version": 3
   },
   "file_extension": ".py",
   "mimetype": "text/x-python",
   "name": "python",
   "nbconvert_exporter": "python",
   "pygments_lexer": "ipython3",
   "version": "3.11.9"
  }
 },
 "nbformat": 4,
 "nbformat_minor": 2
}
