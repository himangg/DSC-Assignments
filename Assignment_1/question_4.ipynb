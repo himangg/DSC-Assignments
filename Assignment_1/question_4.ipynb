{
 "cells": [
  {
   "cell_type": "code",
   "execution_count": 1,
   "metadata": {},
   "outputs": [],
   "source": [
    "import pandas as pd"
   ]
  },
  {
   "cell_type": "code",
   "execution_count": 2,
   "metadata": {},
   "outputs": [
    {
     "name": "stdout",
     "output_type": "stream",
     "text": [
      "                           Name  Season              Month  \\\n",
      "0                  Hurricane #3    1853  August, September   \n",
      "1  \"1856 Last Island Hurricane\"    1856             August   \n",
      "\n",
      "   Max. sustained winds(mph)  Minimum pressure(mbar)  \n",
      "0                        150                     924  \n",
      "1                        150                     934  \n"
     ]
    }
   ],
   "source": [
    "dataset=pd.read_csv(r\"Hurricane.csv\")\n",
    "print(dataset.head(2))"
   ]
  },
  {
   "cell_type": "code",
   "execution_count": 3,
   "metadata": {},
   "outputs": [],
   "source": [
    "sustained_winds=list(dataset[\"Max. sustained winds(mph)\"])\n",
    "min_pressure=list(dataset[\"Minimum pressure(mbar)\"])\n",
    "# print(sustained_winds)\n",
    "# print(min_pressure)"
   ]
  },
  {
   "cell_type": "code",
   "execution_count": 4,
   "metadata": {},
   "outputs": [],
   "source": [
    "def mean_calc(data_list):\n",
    "    return sum(data_list)/len(data_list)"
   ]
  },
  {
   "cell_type": "code",
   "execution_count": 5,
   "metadata": {},
   "outputs": [],
   "source": [
    "def var_calc(data_list):\n",
    "    mean_val=mean_calc(data_list)\n",
    "    var=0\n",
    "    for i in data_list:\n",
    "        var+=(i-mean_val)**2\n",
    "    return var/len(data_list)"
   ]
  },
  {
   "cell_type": "markdown",
   "metadata": {},
   "source": [
    "A)"
   ]
  },
  {
   "cell_type": "code",
   "execution_count": 6,
   "metadata": {},
   "outputs": [],
   "source": [
    "n=len(sustained_winds)\n",
    "mean_x=mean_calc(sustained_winds)\n",
    "mean_y=mean_calc(min_pressure)\n",
    "\n",
    "numerator_of_r=0\n",
    "for i in range(n):\n",
    "        numerator_of_r+=(sustained_winds[i]-mean_x)*(min_pressure[i]-mean_y)\n",
    "\n",
    "correl_coeff_r=numerator_of_r/((var_calc(sustained_winds)*var_calc(min_pressure))**0.5)/n"
   ]
  },
  {
   "cell_type": "code",
   "execution_count": 7,
   "metadata": {},
   "outputs": [
    {
     "name": "stdout",
     "output_type": "stream",
     "text": [
      "Null Hypothesis : No correlation between the 2 columns.\n"
     ]
    }
   ],
   "source": [
    "print(\"Null Hypothesis : No correlation between the 2 columns.\")"
   ]
  },
  {
   "cell_type": "code",
   "execution_count": 8,
   "metadata": {},
   "outputs": [],
   "source": [
    "import scipy.stats as stats"
   ]
  },
  {
   "cell_type": "code",
   "execution_count": 9,
   "metadata": {},
   "outputs": [
    {
     "name": "stdout",
     "output_type": "stream",
     "text": [
      "Rejected Null Hypothesis : There is significant correlation between the columns for 1% significance.\n"
     ]
    }
   ],
   "source": [
    "test_statistics_t= correl_coeff_r/(1-correl_coeff_r**2)**0.5 * (n-2)**0.5\n",
    "\n",
    "t_critical = stats.t.ppf(1-0.01/2, n-2)     #Getting t value as per significance and degree of freedom\n",
    "hypo_accept_range=[-t_critical,t_critical]\n",
    "\n",
    "# print(hypo_accept_range)\n",
    "if test_statistics_t<hypo_accept_range[0] or test_statistics_t>hypo_accept_range[1]:\n",
    "    print(\"Rejected Null Hypothesis : There is significant correlation between the columns for 1% significance.\")\n",
    "else:\n",
    "    print(\"Accepted Null Hypothesis : There is no significant correlation between the columns for 1% significance.\")"
   ]
  },
  {
   "cell_type": "markdown",
   "metadata": {},
   "source": [
    "B)"
   ]
  },
  {
   "cell_type": "code",
   "execution_count": 10,
   "metadata": {},
   "outputs": [
    {
     "name": "stdout",
     "output_type": "stream",
     "text": [
      "Null Hypothesis : Depends on month.\n"
     ]
    }
   ],
   "source": [
    "print(\"Null Hypothesis : Depends on month.\")"
   ]
  },
  {
   "cell_type": "code",
   "execution_count": 11,
   "metadata": {},
   "outputs": [],
   "source": [
    "contigency_table={}\n",
    "for i in [\"July\", \"August\", \"September\", \"October\", \"November\"]:\n",
    "    contigency_table[i]={}\n",
    "    for j in set(sustained_winds):\n",
    "        contigency_table[i][j]=0"
   ]
  },
  {
   "cell_type": "code",
   "execution_count": 12,
   "metadata": {},
   "outputs": [],
   "source": [
    "months=dataset[\"Month\"]\n",
    "data_months=[]\n",
    "for i in months:\n",
    "    data_months.append(i.strip(\"\\\"\").split(\", \"))\n",
    "\n",
    "month_names=[\"July\", \"August\", \"September\", \"October\", \"November\"]\n",
    "lst=[]\n",
    "for i in range(len(data_months)):\n",
    "    for j in data_months[i]:\n",
    "        if j in month_names:\n",
    "            pass\n",
    "        else:\n",
    "            lst.append(i)\n",
    "\n",
    "sustained_winds2=[]\n",
    "data_months2=[]\n",
    "for i in range(len(sustained_winds)):\n",
    "    if i not in lst:\n",
    "        sustained_winds2.append(i)\n",
    "        data_months2.append(data_months[i])\n",
    "data_months=data_months2\n",
    "\n",
    "\n",
    "for i in range(len(data_months)):\n",
    "    for j in data_months[i]:\n",
    "        contigency_table[j][sustained_winds[i]]+=1\n",
    "\n",
    "# print(contigency_table)"
   ]
  },
  {
   "cell_type": "code",
   "execution_count": 13,
   "metadata": {},
   "outputs": [],
   "source": [
    "from scipy.stats import chi2"
   ]
  },
  {
   "cell_type": "code",
   "execution_count": 14,
   "metadata": {},
   "outputs": [],
   "source": [
    "lmbda=mean_calc(sustained_winds2)\n",
    "n=len(sustained_winds2)\n",
    "chi_statistic=0\n",
    "p_critical=chi2.ppf(1-0.05, n-2)"
   ]
  },
  {
   "cell_type": "code",
   "execution_count": 15,
   "metadata": {},
   "outputs": [
    {
     "name": "stdout",
     "output_type": "stream",
     "text": [
      "Accepted Null Hypothesis : It depends on month.\n"
     ]
    }
   ],
   "source": [
    "if chi_statistic>p_critical:\n",
    "    print(\"Rejected Null Hypothesis : It does not depend on month.\")\n",
    "else:\n",
    "    print(\"Accepted Null Hypothesis : It depends on month.\")"
   ]
  },
  {
   "cell_type": "markdown",
   "metadata": {},
   "source": [
    "C)"
   ]
  },
  {
   "cell_type": "code",
   "execution_count": 16,
   "metadata": {},
   "outputs": [
    {
     "name": "stdout",
     "output_type": "stream",
     "text": [
      "Null Hypothesis : The column follows poisson distribution.\n"
     ]
    }
   ],
   "source": [
    "print(\"Null Hypothesis : The column follows poisson distribution.\")"
   ]
  },
  {
   "cell_type": "code",
   "execution_count": 17,
   "metadata": {},
   "outputs": [],
   "source": [
    "import math"
   ]
  },
  {
   "cell_type": "code",
   "execution_count": 18,
   "metadata": {},
   "outputs": [],
   "source": [
    "def poisson(x,lmbd):\n",
    "    val=math.exp(-lmbd)\n",
    "    for i in range(x,0,-1):\n",
    "        val/=i\n",
    "        val*=lmbd\n",
    "    return val"
   ]
  },
  {
   "cell_type": "code",
   "execution_count": 19,
   "metadata": {},
   "outputs": [],
   "source": [
    "frequency_distribution_winds={}\n",
    "for i in sustained_winds:\n",
    "    if i not in frequency_distribution_winds:\n",
    "        frequency_distribution_winds[i]=1\n",
    "    else:\n",
    "        frequency_distribution_winds[i]+=1"
   ]
  },
  {
   "cell_type": "code",
   "execution_count": 20,
   "metadata": {},
   "outputs": [],
   "source": [
    "from scipy.stats import chi2"
   ]
  },
  {
   "cell_type": "code",
   "execution_count": 21,
   "metadata": {},
   "outputs": [],
   "source": [
    "lmbda=mean_calc(sustained_winds)\n",
    "n=len(sustained_winds)\n",
    "chi_statistic=0\n",
    "\n",
    "for i in frequency_distribution_winds:\n",
    "    expected_freq=poisson(i,lmbda)*n\n",
    "    chi_statistic+=(frequency_distribution_winds[i]-expected_freq)**2/expected_freq\n",
    "# print(chi_test_value)\n",
    "\n",
    "p_critical=chi2.ppf(1-0.1, n-2)        #Getting critical value\n",
    "# print(p_critical)"
   ]
  },
  {
   "cell_type": "code",
   "execution_count": 22,
   "metadata": {},
   "outputs": [
    {
     "name": "stdout",
     "output_type": "stream",
     "text": [
      "Rejected Null Hypothesis : It does not follow a poisson distribution.\n"
     ]
    }
   ],
   "source": [
    "if chi_statistic>p_critical:\n",
    "    print(\"Rejected Null Hypothesis : It does not follow a poisson distribution.\")\n",
    "else:\n",
    "    print(\"Accepted Null Hypothesis : It follows poisson distribution.\")"
   ]
  }
 ],
 "metadata": {
  "kernelspec": {
   "display_name": "Python 3",
   "language": "python",
   "name": "python3"
  },
  "language_info": {
   "codemirror_mode": {
    "name": "ipython",
    "version": 3
   },
   "file_extension": ".py",
   "mimetype": "text/x-python",
   "name": "python",
   "nbconvert_exporter": "python",
   "pygments_lexer": "ipython3",
   "version": "3.11.9"
  }
 },
 "nbformat": 4,
 "nbformat_minor": 2
}
